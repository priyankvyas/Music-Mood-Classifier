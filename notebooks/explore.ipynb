{
 "cells": [
  {
   "cell_type": "code",
   "execution_count": 1,
   "metadata": {},
   "outputs": [],
   "source": [
    "# Import the required libraries\n",
    "import os\n",
    "import pandas as pd\n",
    "import matplotlib.pyplot as plt"
   ]
  },
  {
   "cell_type": "code",
   "execution_count": 2,
   "metadata": {},
   "outputs": [],
   "source": [
    "# Load the GTZAN dataset from the data directory\n",
    "base_dir = '../data/gtzan'\n",
    "\n",
    "data = []\n",
    "\n",
    "for label in os.listdir(base_dir):\n",
    "    label_dir = base_dir + f\"/{label}\"\n",
    "    if os.path.isdir(label_dir):\n",
    "        for file in os.listdir(label_dir):\n",
    "            if file.endswith(\".wav\"):\n",
    "                file_path = label_dir + f\"/{file}\"\n",
    "                data.append({\"file_path\": file_path, \"label\": label})"
   ]
  },
  {
   "cell_type": "code",
   "execution_count": 3,
   "metadata": {},
   "outputs": [
    {
     "data": {
      "text/html": [
       "<div>\n",
       "<style scoped>\n",
       "    .dataframe tbody tr th:only-of-type {\n",
       "        vertical-align: middle;\n",
       "    }\n",
       "\n",
       "    .dataframe tbody tr th {\n",
       "        vertical-align: top;\n",
       "    }\n",
       "\n",
       "    .dataframe thead th {\n",
       "        text-align: right;\n",
       "    }\n",
       "</style>\n",
       "<table border=\"1\" class=\"dataframe\">\n",
       "  <thead>\n",
       "    <tr style=\"text-align: right;\">\n",
       "      <th></th>\n",
       "      <th>file_path</th>\n",
       "      <th>label</th>\n",
       "    </tr>\n",
       "  </thead>\n",
       "  <tbody>\n",
       "    <tr>\n",
       "      <th>0</th>\n",
       "      <td>../data/gtzan/blues/blues.00000.wav</td>\n",
       "      <td>blues</td>\n",
       "    </tr>\n",
       "    <tr>\n",
       "      <th>1</th>\n",
       "      <td>../data/gtzan/blues/blues.00001.wav</td>\n",
       "      <td>blues</td>\n",
       "    </tr>\n",
       "    <tr>\n",
       "      <th>2</th>\n",
       "      <td>../data/gtzan/blues/blues.00002.wav</td>\n",
       "      <td>blues</td>\n",
       "    </tr>\n",
       "    <tr>\n",
       "      <th>3</th>\n",
       "      <td>../data/gtzan/blues/blues.00003.wav</td>\n",
       "      <td>blues</td>\n",
       "    </tr>\n",
       "    <tr>\n",
       "      <th>4</th>\n",
       "      <td>../data/gtzan/blues/blues.00004.wav</td>\n",
       "      <td>blues</td>\n",
       "    </tr>\n",
       "    <tr>\n",
       "      <th>5</th>\n",
       "      <td>../data/gtzan/blues/blues.00005.wav</td>\n",
       "      <td>blues</td>\n",
       "    </tr>\n",
       "    <tr>\n",
       "      <th>6</th>\n",
       "      <td>../data/gtzan/blues/blues.00006.wav</td>\n",
       "      <td>blues</td>\n",
       "    </tr>\n",
       "    <tr>\n",
       "      <th>7</th>\n",
       "      <td>../data/gtzan/blues/blues.00007.wav</td>\n",
       "      <td>blues</td>\n",
       "    </tr>\n",
       "    <tr>\n",
       "      <th>8</th>\n",
       "      <td>../data/gtzan/blues/blues.00008.wav</td>\n",
       "      <td>blues</td>\n",
       "    </tr>\n",
       "    <tr>\n",
       "      <th>9</th>\n",
       "      <td>../data/gtzan/blues/blues.00009.wav</td>\n",
       "      <td>blues</td>\n",
       "    </tr>\n",
       "  </tbody>\n",
       "</table>\n",
       "</div>"
      ],
      "text/plain": [
       "                             file_path  label\n",
       "0  ../data/gtzan/blues/blues.00000.wav  blues\n",
       "1  ../data/gtzan/blues/blues.00001.wav  blues\n",
       "2  ../data/gtzan/blues/blues.00002.wav  blues\n",
       "3  ../data/gtzan/blues/blues.00003.wav  blues\n",
       "4  ../data/gtzan/blues/blues.00004.wav  blues\n",
       "5  ../data/gtzan/blues/blues.00005.wav  blues\n",
       "6  ../data/gtzan/blues/blues.00006.wav  blues\n",
       "7  ../data/gtzan/blues/blues.00007.wav  blues\n",
       "8  ../data/gtzan/blues/blues.00008.wav  blues\n",
       "9  ../data/gtzan/blues/blues.00009.wav  blues"
      ]
     },
     "metadata": {},
     "output_type": "display_data"
    }
   ],
   "source": [
    "# Put the data in a DataFrame and display the first few rows for observation\n",
    "dataframe = pd.DataFrame(data)\n",
    "\n",
    "display(dataframe.head(10))"
   ]
  },
  {
   "cell_type": "code",
   "execution_count": 4,
   "metadata": {},
   "outputs": [
    {
     "name": "stdout",
     "output_type": "stream",
     "text": [
      "label\n",
      "blues        100\n",
      "classical    100\n",
      "country      100\n",
      "disco        100\n",
      "hiphop       100\n",
      "jazz         100\n",
      "metal        100\n",
      "pop          100\n",
      "reggae       100\n",
      "rock         100\n",
      "Name: count, dtype: int64\n"
     ]
    }
   ],
   "source": [
    "# Count the number of files for each label\n",
    "print(dataframe['label'].value_counts())"
   ]
  },
  {
   "cell_type": "code",
   "execution_count": 5,
   "metadata": {},
   "outputs": [
    {
     "data": {
      "image/png": "[encoded data removed]",
      "text/plain": [
       "<Figure size 640x480 with 1 Axes>"
      ]
     },
     "metadata": {},
     "output_type": "display_data"
    }
   ],
   "source": [
    "# Plot the label distribution\n",
    "dataframe['label'].value_counts().plot(kind='bar', title='Distribution of Music Genres')\n",
    "plt.xlabel('Genre')\n",
    "plt.ylabel('Count')\n",
    "plt.show()"
   ]
  },
  {
   "cell_type": "code",
   "execution_count": 6,
   "metadata": {},
   "outputs": [
    {
     "data": {
      "text/html": [
       "<div>\n",
       "<style scoped>\n",
       "    .dataframe tbody tr th:only-of-type {\n",
       "        vertical-align: middle;\n",
       "    }\n",
       "\n",
       "    .dataframe tbody tr th {\n",
       "        vertical-align: top;\n",
       "    }\n",
       "\n",
       "    .dataframe thead th {\n",
       "        text-align: right;\n",
       "    }\n",
       "</style>\n",
       "<table border=\"1\" class=\"dataframe\">\n",
       "  <thead>\n",
       "    <tr style=\"text-align: right;\">\n",
       "      <th></th>\n",
       "      <th>file_path</th>\n",
       "      <th>label</th>\n",
       "      <th>mood</th>\n",
       "    </tr>\n",
       "  </thead>\n",
       "  <tbody>\n",
       "    <tr>\n",
       "      <th>0</th>\n",
       "      <td>../data/gtzan/blues/blues.00000.wav</td>\n",
       "      <td>blues</td>\n",
       "      <td>sad</td>\n",
       "    </tr>\n",
       "    <tr>\n",
       "      <th>1</th>\n",
       "      <td>../data/gtzan/blues/blues.00001.wav</td>\n",
       "      <td>blues</td>\n",
       "      <td>sad</td>\n",
       "    </tr>\n",
       "    <tr>\n",
       "      <th>2</th>\n",
       "      <td>../data/gtzan/blues/blues.00002.wav</td>\n",
       "      <td>blues</td>\n",
       "      <td>sad</td>\n",
       "    </tr>\n",
       "    <tr>\n",
       "      <th>3</th>\n",
       "      <td>../data/gtzan/blues/blues.00003.wav</td>\n",
       "      <td>blues</td>\n",
       "      <td>sad</td>\n",
       "    </tr>\n",
       "    <tr>\n",
       "      <th>4</th>\n",
       "      <td>../data/gtzan/blues/blues.00004.wav</td>\n",
       "      <td>blues</td>\n",
       "      <td>sad</td>\n",
       "    </tr>\n",
       "    <tr>\n",
       "      <th>5</th>\n",
       "      <td>../data/gtzan/blues/blues.00005.wav</td>\n",
       "      <td>blues</td>\n",
       "      <td>sad</td>\n",
       "    </tr>\n",
       "    <tr>\n",
       "      <th>6</th>\n",
       "      <td>../data/gtzan/blues/blues.00006.wav</td>\n",
       "      <td>blues</td>\n",
       "      <td>sad</td>\n",
       "    </tr>\n",
       "    <tr>\n",
       "      <th>7</th>\n",
       "      <td>../data/gtzan/blues/blues.00007.wav</td>\n",
       "      <td>blues</td>\n",
       "      <td>sad</td>\n",
       "    </tr>\n",
       "    <tr>\n",
       "      <th>8</th>\n",
       "      <td>../data/gtzan/blues/blues.00008.wav</td>\n",
       "      <td>blues</td>\n",
       "      <td>sad</td>\n",
       "    </tr>\n",
       "    <tr>\n",
       "      <th>9</th>\n",
       "      <td>../data/gtzan/blues/blues.00009.wav</td>\n",
       "      <td>blues</td>\n",
       "      <td>sad</td>\n",
       "    </tr>\n",
       "  </tbody>\n",
       "</table>\n",
       "</div>"
      ],
      "text/plain": [
       "                             file_path  label mood\n",
       "0  ../data/gtzan/blues/blues.00000.wav  blues  sad\n",
       "1  ../data/gtzan/blues/blues.00001.wav  blues  sad\n",
       "2  ../data/gtzan/blues/blues.00002.wav  blues  sad\n",
       "3  ../data/gtzan/blues/blues.00003.wav  blues  sad\n",
       "4  ../data/gtzan/blues/blues.00004.wav  blues  sad\n",
       "5  ../data/gtzan/blues/blues.00005.wav  blues  sad\n",
       "6  ../data/gtzan/blues/blues.00006.wav  blues  sad\n",
       "7  ../data/gtzan/blues/blues.00007.wav  blues  sad\n",
       "8  ../data/gtzan/blues/blues.00008.wav  blues  sad\n",
       "9  ../data/gtzan/blues/blues.00009.wav  blues  sad"
      ]
     },
     "metadata": {},
     "output_type": "display_data"
    }
   ],
   "source": [
    "# Reassign labels from genres to moods\n",
    "genre_to_mood = {\n",
    "    \"blues\": \"sad\",\n",
    "    \"classical\": \"calm\",\n",
    "    \"country\": \"sad\",\n",
    "    \"disco\": \"happy\",\n",
    "    \"hiphop\": \"energetic\",\n",
    "    \"jazz\": \"calm\",\n",
    "    \"metal\": \"energetic\",\n",
    "    \"pop\": \"happy\",\n",
    "    \"reggae\": \"calm\",\n",
    "    \"rock\": \"energetic\"\n",
    "}\n",
    "\n",
    "dataframe['mood'] = dataframe['label'].map(genre_to_mood)\n",
    "\n",
    "display(dataframe.head(10))"
   ]
  },
  {
   "cell_type": "code",
   "execution_count": 7,
   "metadata": {},
   "outputs": [
    {
     "name": "stdout",
     "output_type": "stream",
     "text": [
      "mood\n",
      "calm         300\n",
      "energetic    300\n",
      "sad          200\n",
      "happy        200\n",
      "Name: count, dtype: int64\n"
     ]
    }
   ],
   "source": [
    "# Count the number of files for each mood\n",
    "print(dataframe['mood'].value_counts())"
   ]
  },
  {
   "cell_type": "code",
   "execution_count": 8,
   "metadata": {},
   "outputs": [
    {
     "data": {
      "image/png": "[encoded data removed]",
      "text/plain": [
       "<Figure size 640x480 with 1 Axes>"
      ]
     },
     "metadata": {},
     "output_type": "display_data"
    }
   ],
   "source": [
    "# Plot the mood distribution\n",
    "dataframe['mood'].value_counts().plot(kind='bar', title='Distribution of Music Moods')\n",
    "plt.xlabel('Mood')\n",
    "plt.ylabel('Count')\n",
    "plt.show()"
   ]
  },
  {
   "cell_type": "code",
   "execution_count": 9,
   "metadata": {},
   "outputs": [],
   "source": [
    "# Extract MFCC for a sample file\n",
    "import librosa\n",
    "\n",
    "y, sr = librosa.load(\"../data/gtzan/blues/blues.00000.wav\", duration=30) # Duration set for consistency\n",
    "mfcc = librosa.feature.mfcc(y=y, sr=sr, n_mfcc=13)"
   ]
  },
  {
   "cell_type": "code",
   "execution_count": 10,
   "metadata": {},
   "outputs": [
    {
     "data": {
      "text/plain": [
       "array([-113.619385 ,  121.55302  ,  -19.151056 ,   42.345768 ,\n",
       "         -6.3711677,   18.613033 ,  -13.69206  ,   15.339378 ,\n",
       "        -12.283617 ,   10.973775 ,   -8.32241  ,    8.8067875,\n",
       "         -3.665802 ], dtype=float32)"
      ]
     },
     "execution_count": 10,
     "metadata": {},
     "output_type": "execute_result"
    }
   ],
   "source": [
    "# Get the mean MFCCs for each file\n",
    "import numpy as np\n",
    "\n",
    "np.mean(mfcc, axis=1)"
   ]
  }
 ],
 "metadata": {
  "kernelspec": {
   "display_name": "mmc",
   "language": "python",
   "name": "python3"
  },
  "language_info": {
   "codemirror_mode": {
    "name": "ipython",
    "version": 3
   },
   "file_extension": ".py",
   "mimetype": "text/x-python",
   "name": "python",
   "nbconvert_exporter": "python",
   "pygments_lexer": "ipython3",
   "version": "3.12.2"
  }
 },
 "nbformat": 4,
 "nbformat_minor": 2
}
